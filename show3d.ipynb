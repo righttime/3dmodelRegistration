{
 "cells": [
  {
   "cell_type": "code",
   "execution_count": 1,
   "metadata": {},
   "outputs": [
    {
     "name": "stdout",
     "output_type": "stream",
     "text": [
      "Jupyter environment detected. Enabling Open3D WebVisualizer.\n",
      "[Open3D INFO] WebRTC GUI backend enabled.\n",
      "[Open3D INFO] WebRTCWindowSystem: HTTP handshake server disabled.\n"
     ]
    }
   ],
   "source": [
    "import open3d as o3d\n",
    "import numpy as np\n"
   ]
  },
  {
   "cell_type": "code",
   "execution_count": 2,
   "metadata": {},
   "outputs": [
    {
     "data": {
      "text/plain": [
       "TriangleMesh with 492809 points and 164284 triangles."
      ]
     },
     "execution_count": 2,
     "metadata": {},
     "output_type": "execute_result"
    }
   ],
   "source": [
    "mesh = o3d.io.read_triangle_mesh(\"assets/data/ios_with_smilearch.stl\")\n",
    "mesh.compute_vertex_normals()\n"
   ]
  },
  {
   "cell_type": "code",
   "execution_count": 3,
   "metadata": {},
   "outputs": [
    {
     "data": {
      "text/plain": [
       "TriangleMesh with 492809 points and 164284 triangles."
      ]
     },
     "execution_count": 3,
     "metadata": {},
     "output_type": "execute_result"
    }
   ],
   "source": [
    "mesh"
   ]
  },
  {
   "cell_type": "code",
   "execution_count": 4,
   "metadata": {},
   "outputs": [],
   "source": [
    "def create_coordinate_arrows(size=1.0, origin=[20, 0, 0]):\n",
    "    \"\"\"\n",
    "    좌표축을 화살표로 생성하는 함수\n",
    "    \n",
    "    Args:\n",
    "        size: float - 화살표 크기\n",
    "        origin: list - 좌표축 원점 위치 [x, y, z]\n",
    "    \n",
    "    Returns:\n",
    "        list: 화살표 geometry 리스트\n",
    "    \"\"\"\n",
    "    geometries = []\n",
    "    \n",
    "    # 화살표 생성을 위한 실린더와 원뿔 생성\n",
    "    for i, color in enumerate([[1,0,0], [0,1,0], [0,0,1]]):  # RGB for XYZ\n",
    "        # 실린더 (화살표 몸통) 생성\n",
    "        cylinder = o3d.geometry.TriangleMesh.create_cylinder(\n",
    "            radius=size/30,\n",
    "            height=size*0.8\n",
    "        )\n",
    "        # 실린더를 중심이 원점에 오도록 이동\n",
    "        cylinder.translate([0, 0, size*0.4])\n",
    "        \n",
    "        # 원뿔 (화살표 머리) 생성\n",
    "        cone = o3d.geometry.TriangleMesh.create_cone(\n",
    "            radius=size/15,\n",
    "            height=size*0.2\n",
    "        )\n",
    "        # 원뿔을 실린더 위에 배치\n",
    "        cone.translate([0, 0, size*0.8])\n",
    "        \n",
    "        # 화살표 합치기\n",
    "        arrow = cylinder + cone\n",
    "        \n",
    "        # 각 축 방향으로 회전\n",
    "        if i == 0:  # X축\n",
    "            arrow.rotate(\n",
    "                o3d.geometry.get_rotation_matrix_from_xyz([0, np.pi/2, 0])\n",
    "            )\n",
    "        elif i == 1:  # Y축\n",
    "            arrow.rotate(\n",
    "                o3d.geometry.get_rotation_matrix_from_xyz([-np.pi/2, 0, 0])\n",
    "            )\n",
    "        \n",
    "        # 원점으로 이동\n",
    "        arrow.translate(origin)\n",
    "        \n",
    "        # 색상 지정\n",
    "        arrow.paint_uniform_color(color)\n",
    "        geometries.append(arrow)\n",
    "    \n",
    "    return geometries\n"
   ]
  },
  {
   "cell_type": "code",
   "execution_count": 5,
   "metadata": {},
   "outputs": [],
   "source": [
    "# 메쉬 크기에 맞춰 좌표축 크기 설정\n",
    "mesh_bbox = mesh.get_axis_aligned_bounding_box()\n",
    "mesh_size = mesh_bbox.get_extent()\n",
    "axis_size = max(mesh_size) * 0.2\n",
    "\n",
    "# 좌표축 화살표 생성\n",
    "coordinate_arrows = create_coordinate_arrows(size=axis_size)\n",
    "\n",
    "# 메쉬와 좌표축 함께 시각화\n",
    "geometries = [mesh] + coordinate_arrows\n",
    "o3d.visualization.draw_geometries(geometries)"
   ]
  },
  {
   "cell_type": "markdown",
   "metadata": {},
   "source": [
    "## 여기까지 모델 + 화살표 그리기"
   ]
  },
  {
   "cell_type": "code",
   "execution_count": 6,
   "metadata": {},
   "outputs": [],
   "source": [
    "def show(mesh):\n",
    "    mesh_bbox = mesh.get_axis_aligned_bounding_box()\n",
    "    mesh_size = mesh_bbox.get_extent()\n",
    "    axis_size = max(mesh_size) * 0.2\n",
    "\n",
    "    # 메쉬를 반투명하게 설정\n",
    "    mesh.paint_uniform_color([0.7, 0.7, 0.7])  # 회색으로 설정\n",
    "    mesh.vertex_colors = o3d.utility.Vector3dVector(\n",
    "        np.ones((np.asarray(mesh.vertices).shape[0], 3)) * [0.7, 0.7, 0.7]\n",
    "    )\n",
    "\n",
    "    # 좌표축 화살표 생성\n",
    "    coordinate_arrows = create_coordinate_arrows(size=axis_size)\n",
    "\n",
    "    # 메쉬와 좌표축 함께 시각화\n",
    "    geometries = [mesh] + coordinate_arrows\n",
    "    vis = o3d.visualization.Visualizer()\n",
    "    vis.create_window()\n",
    "    for g in geometries:\n",
    "        vis.add_geometry(g)\n",
    "\n",
    "    opt = vis.get_render_option()\n",
    "    opt.mesh_show_back_face = True\n",
    "    \n",
    "    vis.run()\n",
    "    vis.destroy_window()"
   ]
  },
  {
   "cell_type": "code",
   "execution_count": 7,
   "metadata": {},
   "outputs": [
    {
     "data": {
      "text/plain": [
       "TriangleMesh with 492809 points and 164284 triangles."
      ]
     },
     "execution_count": 7,
     "metadata": {},
     "output_type": "execute_result"
    }
   ],
   "source": [
    "random_angles = [np.random.random()*np.pi*2 for _ in range(3)]\n",
    "mesh.rotate(o3d.geometry.get_rotation_matrix_from_xyz(random_angles), center=mesh.get_center())"
   ]
  },
  {
   "cell_type": "code",
   "execution_count": 8,
   "metadata": {},
   "outputs": [],
   "source": [
    "show(mesh)"
   ]
  },
  {
   "cell_type": "markdown",
   "metadata": {},
   "source": [
    "### 자 이제 정렬을 해보자\n",
    "1. 주성분 분석(PCA)\n",
    " - 주성분을 XZ 평면에 수평이 되도록 정렬 (여기서는 그렇슴.)\n",
    "2. 무게중심이 바운딩중심 과 차이가 날 것임 \n",
    " - 앞쪽, 치아 쪽으로 "
   ]
  },
  {
   "cell_type": "code",
   "execution_count": 9,
   "metadata": {},
   "outputs": [],
   "source": [
    "# 1. PCA 분석\n",
    "vertices = np.asarray(mesh.vertices)\n",
    "center = vertices.mean(axis=0)\n",
    "vertices_centered = vertices - center"
   ]
  },
  {
   "cell_type": "code",
   "execution_count": 10,
   "metadata": {},
   "outputs": [],
   "source": [
    "\n",
    "covariance_matrix = np.cov(vertices_centered.T)\n",
    "eigenvalues, eigenvectors = np.linalg.eigh(covariance_matrix)"
   ]
  },
  {
   "cell_type": "code",
   "execution_count": 11,
   "metadata": {},
   "outputs": [],
   "source": [
    "# eigenvalues를 크기순으로 정렬 (가장 큰 값이 마지막에)\n",
    "idx = eigenvalues.argsort()\n",
    "eigenvalues = eigenvalues[idx]\n",
    "eigenvectors = eigenvectors[:, idx]\n"
   ]
  },
  {
   "cell_type": "code",
   "execution_count": 12,
   "metadata": {},
   "outputs": [
    {
     "name": "stdout",
     "output_type": "stream",
     "text": [
      "Eigenvalues (주성분별 분산): [ 27.93309714 191.25079208 305.64572591]\n",
      "\n",
      "Eigenvectors (주성분 방향):\n",
      " [[ 0.09315822 -0.9765462   0.19411095]\n",
      " [ 0.17342162 -0.17606377 -0.96898219]\n",
      " [ 0.98043179  0.12393169  0.15295244]]\n"
     ]
    }
   ],
   "source": [
    "lines = []\n",
    "colors = []\n",
    "scale_factor = np.max(vertices_centered.max(axis=0) - vertices_centered.min(axis=0)) * 0.5\n",
    "\n",
    "for i in range(3):\n",
    "    # 각 주성분 방향으로 라인 생성\n",
    "    direction = eigenvectors[:, i] * eigenvalues[i] * scale_factor\n",
    "    line = o3d.geometry.LineSet()\n",
    "    points = np.array([center - direction, center + direction])\n",
    "    line.points = o3d.utility.Vector3dVector(points)\n",
    "    line.lines = o3d.utility.Vector2iVector([[0, 1]])\n",
    "    \n",
    "    # RGB 색상 사용 (빨강: 첫번째, 초록: 두번째, 파랑: 세번째 주성분)\n",
    "    color = np.zeros(3)\n",
    "    color[i] = 1\n",
    "    line.colors = o3d.utility.Vector3dVector([color])\n",
    "    lines.append(line)\n",
    "\n",
    "print(\"Eigenvalues (주성분별 분산):\", eigenvalues)\n",
    "print(\"\\nEigenvectors (주성분 방향):\\n\", eigenvectors)"
   ]
  },
  {
   "cell_type": "code",
   "execution_count": 13,
   "metadata": {},
   "outputs": [],
   "source": [
    "R = np.column_stack([\n",
    "    eigenvectors[:, 2],  # 첫 번째 주성분 -> x축\n",
    "    eigenvectors[:, 0],  # 두 번째 주성분 -> y축\n",
    "    eigenvectors[:, 1]   # 세 번째 주성분 -> z축\n",
    "])"
   ]
  },
  {
   "cell_type": "code",
   "execution_count": 14,
   "metadata": {},
   "outputs": [
    {
     "data": {
      "text/plain": [
       "TriangleMesh with 492809 points and 164284 triangles."
      ]
     },
     "execution_count": 14,
     "metadata": {},
     "output_type": "execute_result"
    }
   ],
   "source": [
    "# 새로운 메쉬 생성 및 회전\n",
    "aligned_mesh = o3d.geometry.TriangleMesh()\n",
    "aligned_mesh.vertices = mesh.vertices\n",
    "aligned_mesh.triangles = mesh.triangles\n",
    "aligned_mesh.vertex_normals = mesh.vertex_normals\n",
    "aligned_mesh.compute_vertex_normals()\n",
    "aligned_mesh.rotate(R.T, center=mesh.get_center())"
   ]
  },
  {
   "cell_type": "code",
   "execution_count": 15,
   "metadata": {},
   "outputs": [
    {
     "name": "stdout",
     "output_type": "stream",
     "text": [
      "\n",
      "원본 메쉬와 주성분 방향:\n"
     ]
    }
   ],
   "source": [
    "# 원본 메쉬와 주성분 방향 시각화\n",
    "print(\"\\n원본 메쉬와 주성분 방향:\")\n",
    "show(mesh)"
   ]
  },
  {
   "cell_type": "code",
   "execution_count": 16,
   "metadata": {},
   "outputs": [
    {
     "name": "stdout",
     "output_type": "stream",
     "text": [
      "\n",
      "정렬된 메쉬 (첫 번째, 두 번째 주성분이 xy 평면에 수평):\n"
     ]
    }
   ],
   "source": [
    "print(\"\\n정렬된 메쉬 (첫 번째, 두 번째 주성분이 xy 평면에 수평):\")\n",
    "show(aligned_mesh)"
   ]
  },
  {
   "cell_type": "code",
   "execution_count": 17,
   "metadata": {},
   "outputs": [],
   "source": [
    "def show(meshes):\n",
    "    \"\"\"\n",
    "    여러 메쉬를 동시에 시각화하는 함수\n",
    "    \n",
    "    Args:\n",
    "        meshes: list of o3d.geometry.TriangleMesh or single mesh\n",
    "    \"\"\"\n",
    "    # 단일 메쉬인 경우 리스트로 변환\n",
    "    if not isinstance(meshes, list):\n",
    "        meshes = [meshes]\n",
    "    \n",
    "    # 모든 메쉬의 바운딩 박스를 고려하여 좌표축 크기 계산\n",
    "    max_size = 0\n",
    "    for mesh in meshes:\n",
    "        if isinstance(mesh, o3d.geometry.TriangleMesh):\n",
    "            mesh_bbox = mesh.get_axis_aligned_bounding_box()\n",
    "            mesh_size = mesh_bbox.get_extent()\n",
    "            max_size = max(max_size, max(mesh_size))\n",
    "    \n",
    "    axis_size = max_size * 0.2\n",
    "\n",
    "    # 좌표축 화살표 생성\n",
    "    coordinate_arrows = create_coordinate_arrows(size=axis_size)\n",
    "\n",
    "    # 모든 메쉬와 좌표축 함께 시각화\n",
    "    geometries = meshes\n",
    "    vis = o3d.visualization.Visualizer()\n",
    "    vis.create_window()\n",
    "    \n",
    "    # 각 geometry 추가\n",
    "    for g in geometries:\n",
    "        # 메쉬인 경우 반투명 설정\n",
    "        if isinstance(g, o3d.geometry.TriangleMesh):\n",
    "            # 반투명 회색 설정 (알파값 0.5)\n",
    "            pcd = g.sample_points_uniformly(number_of_points=50000)\n",
    "            #pcd.paint_uniform_color([0.7, 0.7, 0.7])\n",
    "            vis.add_geometry(pcd)\n",
    "        else:\n",
    "            vis.add_geometry(g)\n",
    "\n",
    "    for g in coordinate_arrows:\n",
    "        vis.add_geometry(g)\n",
    "    # 렌더링 옵션 설정\n",
    "    opt = vis.get_render_option()\n",
    "    opt.mesh_show_back_face = True\n",
    "    opt.mesh_show_wireframe = False\n",
    "    opt.background_color = np.asarray([0, 0, 0])\n",
    "    \n",
    "    # 카메라 설정\n",
    "    ctr = vis.get_view_control()\n",
    "    ctr.set_zoom(0.8)\n",
    "    \n",
    "    vis.run()\n",
    "    vis.destroy_window()"
   ]
  },
  {
   "cell_type": "code",
   "execution_count": 18,
   "metadata": {},
   "outputs": [],
   "source": [
    "show([aligned_mesh, mesh])"
   ]
  },
  {
   "cell_type": "code",
   "execution_count": 19,
   "metadata": {},
   "outputs": [],
   "source": [
    "obb = aligned_mesh.get_oriented_bounding_box()\n",
    "obb.color = [1, 0, 0]  # 빨간색"
   ]
  },
  {
   "cell_type": "code",
   "execution_count": 20,
   "metadata": {},
   "outputs": [
    {
     "name": "stdout",
     "output_type": "stream",
     "text": [
      "OBB 중심점: [-1.56910355 19.4912446   8.24677467]\n",
      "OBB 크기: [65.11596301 53.82793024 20.16435498]\n",
      "OBB 회전 행렬:\n",
      " [[ 0.96619948 -0.25533398 -0.0355404 ]\n",
      " [ 0.02342698 -0.05032802  0.99845794]\n",
      " [-0.25672892 -0.96554215 -0.0426452 ]]\n"
     ]
    }
   ],
   "source": [
    "print(\"OBB 중심점:\", obb.center)\n",
    "print(\"OBB 크기:\", obb.extent)\n",
    "print(\"OBB 회전 행렬:\\n\", obb.R)"
   ]
  },
  {
   "cell_type": "code",
   "execution_count": 21,
   "metadata": {},
   "outputs": [],
   "source": [
    "# 메쉬와 OBB 함께 시각화\n",
    "show([aligned_mesh, obb])"
   ]
  },
  {
   "cell_type": "code",
   "execution_count": 22,
   "metadata": {},
   "outputs": [
    {
     "data": {
      "text/plain": [
       "TriangleMesh with 762 points and 1520 triangles."
      ]
     },
     "execution_count": 22,
     "metadata": {},
     "output_type": "execute_result"
    }
   ],
   "source": [
    "center_sphere = o3d.geometry.TriangleMesh.create_sphere(radius=max(obb.extent) * 0.02)\n",
    "center_sphere.translate(obb.center)\n",
    "center_sphere.paint_uniform_color([1, 0, 0])  # 빨간색"
   ]
  },
  {
   "cell_type": "code",
   "execution_count": 23,
   "metadata": {},
   "outputs": [
    {
     "data": {
      "text/plain": [
       "TriangleMesh with 762 points and 1520 triangles."
      ]
     },
     "execution_count": 23,
     "metadata": {},
     "output_type": "execute_result"
    }
   ],
   "source": [
    "mesh_center = aligned_mesh.get_center()\n",
    "gravity_sphere = o3d.geometry.TriangleMesh.create_sphere(radius=max(obb.extent) * 0.02)\n",
    "gravity_sphere.translate(mesh_center)\n",
    "gravity_sphere.paint_uniform_color([0, 0, 1])  # 파란색"
   ]
  },
  {
   "cell_type": "code",
   "execution_count": 24,
   "metadata": {},
   "outputs": [
    {
     "name": "stdout",
     "output_type": "stream",
     "text": [
      "OBB 중심점: [-1.56910355 19.4912446   8.24677467]\n",
      "무게 중심점: [-0.14213696 18.35538415  5.7671949 ]\n",
      "OBB 크기: [65.11596301 53.82793024 20.16435498]\n",
      "OBB 회전 행렬:\n",
      " [[ 0.96619948 -0.25533398 -0.0355404 ]\n",
      " [ 0.02342698 -0.05032802  0.99845794]\n",
      " [-0.25672892 -0.96554215 -0.0426452 ]]\n"
     ]
    }
   ],
   "source": [
    "print(\"OBB 중심점:\", obb.center)\n",
    "print(\"무게 중심점:\", mesh_center)\n",
    "print(\"OBB 크기:\", obb.extent)\n",
    "print(\"OBB 회전 행렬:\\n\", obb.R)"
   ]
  },
  {
   "cell_type": "code",
   "execution_count": 25,
   "metadata": {},
   "outputs": [],
   "source": [
    "show([aligned_mesh, obb, center_sphere, gravity_sphere])"
   ]
  },
  {
   "cell_type": "code",
   "execution_count": null,
   "metadata": {},
   "outputs": [],
   "source": []
  }
 ],
 "metadata": {
  "kernelspec": {
   "display_name": "myenv",
   "language": "python",
   "name": "python3"
  },
  "language_info": {
   "codemirror_mode": {
    "name": "ipython",
    "version": 3
   },
   "file_extension": ".py",
   "mimetype": "text/x-python",
   "name": "python",
   "nbconvert_exporter": "python",
   "pygments_lexer": "ipython3",
   "version": "3.10.16"
  }
 },
 "nbformat": 4,
 "nbformat_minor": 2
}

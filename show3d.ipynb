{
 "cells": [
  {
   "cell_type": "code",
   "execution_count": 1,
   "metadata": {},
   "outputs": [
    {
     "name": "stdout",
     "output_type": "stream",
     "text": [
      "Jupyter environment detected. Enabling Open3D WebVisualizer.\n",
      "[Open3D INFO] WebRTC GUI backend enabled.\n",
      "[Open3D INFO] WebRTCWindowSystem: HTTP handshake server disabled.\n"
     ]
    }
   ],
   "source": [
    "import open3d as o3d\n",
    "import numpy as np\n"
   ]
  },
  {
   "cell_type": "code",
   "execution_count": 2,
   "metadata": {},
   "outputs": [
    {
     "data": {
      "text/plain": [
       "TriangleMesh with 492809 points and 164284 triangles."
      ]
     },
     "execution_count": 2,
     "metadata": {},
     "output_type": "execute_result"
    }
   ],
   "source": [
    "mesh = o3d.io.read_triangle_mesh(\"assets/data/ios_with_smilearch.stl\")\n",
    "mesh.compute_vertex_normals()\n"
   ]
  },
  {
   "cell_type": "code",
   "execution_count": 3,
   "metadata": {},
   "outputs": [
    {
     "data": {
      "text/plain": [
       "TriangleMesh with 492809 points and 164284 triangles."
      ]
     },
     "execution_count": 3,
     "metadata": {},
     "output_type": "execute_result"
    }
   ],
   "source": [
    "mesh"
   ]
  },
  {
   "cell_type": "code",
   "execution_count": 8,
   "metadata": {},
   "outputs": [],
   "source": [
    "def create_coordinate_arrows(size=1.0, origin=[0, 0, 0]):\n",
    "    \"\"\"\n",
    "    좌표축을 화살표로 생성하는 함수\n",
    "    \n",
    "    Args:\n",
    "        size: float - 화살표 크기\n",
    "        origin: list - 좌표축 원점 위치 [x, y, z]\n",
    "    \n",
    "    Returns:\n",
    "        list: 화살표 geometry 리스트\n",
    "    \"\"\"\n",
    "    geometries = []\n",
    "    \n",
    "    # 화살표 생성을 위한 실린더와 원뿔 생성\n",
    "    for i, color in enumerate([[1,0,0], [0,1,0], [0,0,1]]):  # RGB for XYZ\n",
    "        # 실린더 (화살표 몸통) 생성\n",
    "        cylinder = o3d.geometry.TriangleMesh.create_cylinder(\n",
    "            radius=size/30,\n",
    "            height=size*0.8\n",
    "        )\n",
    "        # 실린더를 중심이 원점에 오도록 이동\n",
    "        cylinder.translate([0, 0, size*0.4])\n",
    "        \n",
    "        # 원뿔 (화살표 머리) 생성\n",
    "        cone = o3d.geometry.TriangleMesh.create_cone(\n",
    "            radius=size/15,\n",
    "            height=size*0.2\n",
    "        )\n",
    "        # 원뿔을 실린더 위에 배치\n",
    "        cone.translate([0, 0, size*0.8])\n",
    "        \n",
    "        # 화살표 합치기\n",
    "        arrow = cylinder + cone\n",
    "        \n",
    "        # 각 축 방향으로 회전\n",
    "        if i == 0:  # X축\n",
    "            arrow.rotate(\n",
    "                o3d.geometry.get_rotation_matrix_from_xyz([0, np.pi/2, 0])\n",
    "            )\n",
    "        elif i == 1:  # Y축\n",
    "            arrow.rotate(\n",
    "                o3d.geometry.get_rotation_matrix_from_xyz([-np.pi/2, 0, 0])\n",
    "            )\n",
    "        \n",
    "        # 원점으로 이동\n",
    "        arrow.translate(origin)\n",
    "        \n",
    "        # 색상 지정\n",
    "        arrow.paint_uniform_color(color)\n",
    "        geometries.append(arrow)\n",
    "    \n",
    "    return geometries\n"
   ]
  },
  {
   "cell_type": "code",
   "execution_count": 10,
   "metadata": {},
   "outputs": [],
   "source": [
    "# 메쉬 크기에 맞춰 좌표축 크기 설정\n",
    "mesh_bbox = mesh.get_axis_aligned_bounding_box()\n",
    "mesh_size = mesh_bbox.get_extent()\n",
    "axis_size = max(mesh_size) * 0.2\n",
    "\n",
    "# 좌표축 화살표 생성\n",
    "coordinate_arrows = create_coordinate_arrows(size=axis_size)\n",
    "\n",
    "# 메쉬와 좌표축 함께 시각화\n",
    "geometries = [mesh] + coordinate_arrows\n",
    "o3d.visualization.draw_geometries(geometries)"
   ]
  },
  {
   "cell_type": "markdown",
   "metadata": {},
   "source": [
    "## 여기까지 모델 + 화살표 그리기"
   ]
  },
  {
   "cell_type": "code",
   "execution_count": 12,
   "metadata": {},
   "outputs": [],
   "source": [
    "def show(mesh):\n",
    "    mesh_bbox = mesh.get_axis_aligned_bounding_box()\n",
    "    mesh_size = mesh_bbox.get_extent()\n",
    "    axis_size = max(mesh_size) * 0.2\n",
    "\n",
    "    # 좌표축 화살표 생성\n",
    "    coordinate_arrows = create_coordinate_arrows(size=axis_size)\n",
    "\n",
    "    # 메쉬와 좌표축 함께 시각화\n",
    "    geometries = [mesh] + coordinate_arrows\n",
    "    o3d.visualization.draw_geometries(geometries)"
   ]
  },
  {
   "cell_type": "code",
   "execution_count": 15,
   "metadata": {},
   "outputs": [
    {
     "data": {
      "text/plain": [
       "TriangleMesh with 492809 points and 164284 triangles."
      ]
     },
     "execution_count": 15,
     "metadata": {},
     "output_type": "execute_result"
    }
   ],
   "source": [
    "random_angles = [np.random.random()*np.pi*2 for _ in range(3)]\n",
    "mesh.rotate(o3d.geometry.get_rotation_matrix_from_xyz(random_angles), center=mesh.get_center())"
   ]
  },
  {
   "cell_type": "code",
   "execution_count": 16,
   "metadata": {},
   "outputs": [],
   "source": [
    "show(mesh)"
   ]
  },
  {
   "cell_type": "markdown",
   "metadata": {},
   "source": [
    "### 자 이제 정렬을 해보자\n",
    "- 전체 법선 벡터를 가지고 "
   ]
  },
  {
   "cell_type": "code",
   "execution_count": null,
   "metadata": {},
   "outputs": [],
   "source": []
  }
 ],
 "metadata": {
  "kernelspec": {
   "display_name": "myenv",
   "language": "python",
   "name": "python3"
  },
  "language_info": {
   "codemirror_mode": {
    "name": "ipython",
    "version": 3
   },
   "file_extension": ".py",
   "mimetype": "text/x-python",
   "name": "python",
   "nbconvert_exporter": "python",
   "pygments_lexer": "ipython3",
   "version": "3.10.16"
  }
 },
 "nbformat": 4,
 "nbformat_minor": 2
}
